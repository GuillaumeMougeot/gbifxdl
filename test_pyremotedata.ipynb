{
 "cells": [
  {
   "cell_type": "code",
   "execution_count": 1,
   "metadata": {},
   "outputs": [],
   "source": [
    "from pyremotedata.implicit_mount import IOHandler"
   ]
  },
  {
   "cell_type": "code",
   "execution_count": 3,
   "metadata": {},
   "outputs": [
    {
     "name": "stdout",
     "output_type": "stream",
     "text": [
      "Connected to sftp://gmo%40ecos.au.dk:@io.erda.au.dk:2222/\n",
      "Local directory: /tmp/tmpsqb672ad\n"
     ]
    },
    {
     "ename": "Exception",
     "evalue": "Error while executing command: mput: Access failed: 404 Not Found (/ajax/dldimg/img_user!2017!12!2441!1512399868_2441.jpg)\n",
     "output_type": "error",
     "traceback": [
      "\u001b[0;31m---------------------------------------------------------------------------\u001b[0m",
      "\u001b[0;31mException\u001b[0m                                 Traceback (most recent call last)",
      "Cell \u001b[0;32mIn[3], line 15\u001b[0m\n\u001b[1;32m     13\u001b[0m     \u001b[38;5;28;01mpass\u001b[39;00m\n\u001b[1;32m     14\u001b[0m \u001b[38;5;66;03m# print(io.ls())\u001b[39;00m\n\u001b[0;32m---> 15\u001b[0m \u001b[43mio\u001b[49m\u001b[38;5;241;43m.\u001b[39;49m\u001b[43mexecute_command\u001b[49m\u001b[43m(\u001b[49m\u001b[38;5;124;43m\"\u001b[39;49m\u001b[38;5;124;43mmput -P 5 \u001b[39;49m\u001b[38;5;132;43;01m{}\u001b[39;49;00m\u001b[38;5;124;43m\"\u001b[39;49m\u001b[38;5;241;43m.\u001b[39;49m\u001b[43mformat\u001b[49m\u001b[43m(\u001b[49m\u001b[38;5;124;43m\"\u001b[39;49m\u001b[38;5;124;43m \u001b[39;49m\u001b[38;5;124;43m\"\u001b[39;49m\u001b[38;5;241;43m.\u001b[39;49m\u001b[43mjoin\u001b[49m\u001b[43m(\u001b[49m\u001b[43m[\u001b[49m\u001b[43merror_url\u001b[49m\u001b[43m,\u001b[49m\u001b[43m \u001b[49m\u001b[43mwork_url\u001b[49m\u001b[43m]\u001b[49m\u001b[43m)\u001b[49m\u001b[43m)\u001b[49m\u001b[43m)\u001b[49m\n\u001b[1;32m     16\u001b[0m \u001b[38;5;28mprint\u001b[39m(\u001b[38;5;124m\"\u001b[39m\u001b[38;5;124mABC\u001b[39m\u001b[38;5;124m\"\u001b[39m)\n\u001b[1;32m     17\u001b[0m \u001b[38;5;66;03m# print(io.ls())\u001b[39;00m\n",
      "File \u001b[0;32m~/micromamba/envs/gbif/lib/python3.11/site-packages/pyremotedata/implicit_mount.py:204\u001b[0m, in \u001b[0;36mImplicitMount.execute_command\u001b[0;34m(self, command, output, blocking, execute, default_args, **kwargs)\u001b[0m\n\u001b[1;32m    202\u001b[0m     \u001b[38;5;28;01mreturn\u001b[39;00m full_command\n\u001b[1;32m    203\u001b[0m \u001b[38;5;28;01melse\u001b[39;00m:\n\u001b[0;32m--> 204\u001b[0m     output \u001b[38;5;241m=\u001b[39m \u001b[38;5;28;43mself\u001b[39;49m\u001b[38;5;241;43m.\u001b[39;49m\u001b[43m_execute_command\u001b[49m\u001b[43m(\u001b[49m\u001b[43mfull_command\u001b[49m\u001b[43m,\u001b[49m\u001b[43m \u001b[49m\u001b[43moutput\u001b[49m\u001b[38;5;241;43m=\u001b[39;49m\u001b[43moutput\u001b[49m\u001b[43m,\u001b[49m\u001b[43m \u001b[49m\u001b[43mblocking\u001b[49m\u001b[38;5;241;43m=\u001b[39;49m\u001b[43mblocking\u001b[49m\u001b[43m,\u001b[49m\u001b[43m \u001b[49m\u001b[43muuid_str\u001b[49m\u001b[38;5;241;43m=\u001b[39;49m\u001b[43muuid_str\u001b[49m\u001b[43m)\u001b[49m\n\u001b[1;32m    205\u001b[0m     \u001b[38;5;28;01mif\u001b[39;00m \u001b[38;5;28misinstance\u001b[39m(output, \u001b[38;5;28mlist\u001b[39m):\n\u001b[1;32m    206\u001b[0m         \u001b[38;5;28;01mreturn\u001b[39;00m output\n",
      "File \u001b[0;32m~/micromamba/envs/gbif/lib/python3.11/site-packages/pyremotedata/implicit_mount.py:249\u001b[0m, in \u001b[0;36mImplicitMount._execute_command\u001b[0;34m(self, command, output, blocking, uuid_str)\u001b[0m\n\u001b[1;32m    247\u001b[0m \u001b[38;5;66;03m# Read output\u001b[39;00m\n\u001b[1;32m    248\u001b[0m \u001b[38;5;28;01mif\u001b[39;00m output:\n\u001b[0;32m--> 249\u001b[0m     \u001b[38;5;28;01mreturn\u001b[39;00m \u001b[38;5;28;43mself\u001b[39;49m\u001b[38;5;241;43m.\u001b[39;49m\u001b[43m_read_stdout\u001b[49m\u001b[43m(\u001b[49m\u001b[43muuid_str\u001b[49m\u001b[38;5;241;43m=\u001b[39;49m\u001b[43muuid_str\u001b[49m\u001b[43m)\u001b[49m\n\u001b[1;32m    250\u001b[0m \u001b[38;5;28;01melif\u001b[39;00m blocking:\n\u001b[1;32m    251\u001b[0m     \u001b[38;5;28mself\u001b[39m\u001b[38;5;241m.\u001b[39m_read_stdout(uuid_str\u001b[38;5;241m=\u001b[39muuid_str)\n",
      "File \u001b[0;32m~/micromamba/envs/gbif/lib/python3.11/site-packages/pyremotedata/implicit_mount.py:150\u001b[0m, in \u001b[0;36mImplicitMount._read_stdout\u001b[0;34m(self, timeout, strip_timestamp, uuid_str)\u001b[0m\n\u001b[1;32m    148\u001b[0m         err \u001b[38;5;241m=\u001b[39m \u001b[38;5;28mself\u001b[39m\u001b[38;5;241m.\u001b[39m_read_stderr()\n\u001b[1;32m    149\u001b[0m         \u001b[38;5;28;01mif\u001b[39;00m err \u001b[38;5;129;01mand\u001b[39;00m \u001b[38;5;129;01mnot\u001b[39;00m err\u001b[38;5;241m.\u001b[39mstartswith(\u001b[38;5;124m\"\u001b[39m\u001b[38;5;124mwait: no current job\u001b[39m\u001b[38;5;124m\"\u001b[39m):\n\u001b[0;32m--> 150\u001b[0m             \u001b[38;5;28;01mraise\u001b[39;00m \u001b[38;5;167;01mException\u001b[39;00m(\u001b[38;5;124mf\u001b[39m\u001b[38;5;124m\"\u001b[39m\u001b[38;5;124mError while executing command: \u001b[39m\u001b[38;5;132;01m{\u001b[39;00merr\u001b[38;5;132;01m}\u001b[39;00m\u001b[38;5;124m\"\u001b[39m)\n\u001b[1;32m    151\u001b[0m         time\u001b[38;5;241m.\u001b[39msleep(\u001b[38;5;241m0.001\u001b[39m)  \u001b[38;5;66;03m# Moved to the else clause\u001b[39;00m\n\u001b[1;32m    152\u001b[0m \u001b[38;5;28;01mreturn\u001b[39;00m lines\n",
      "\u001b[0;31mException\u001b[0m: Error while executing command: mput: Access failed: 404 Not Found (/ajax/dldimg/img_user!2017!12!2441!1512399868_2441.jpg)\n"
     ]
    }
   ],
   "source": [
    "error_url = \"http://cettia-idf.fr/ajax/dldimg/img_user!2017!12!2441!1512399868_2441.jpg\"\n",
    "work_url = \"https://observation.org/photos/15658540.jpg\"\n",
    "\n",
    "with IOHandler() as io:\n",
    "    io.cd(\"datasets\")\n",
    "    try:\n",
    "        io.execute_command(\"rm \"+ error_url.split(\"/\")[-1])\n",
    "    except:\n",
    "        pass\n",
    "    try:\n",
    "        io.execute_command(\"rm \"+ work_url.split(\"/\")[-1])\n",
    "    except:\n",
    "        pass\n",
    "    print(io.ls())\n",
    "    io.execute_command(\"mput -P 5 {}\".format(\" \".join([error_url, work_url])))\n",
    "    # print(io.ls())"
   ]
  }
 ],
 "metadata": {
  "kernelspec": {
   "display_name": "Python 3",
   "language": "python",
   "name": "python3"
  },
  "language_info": {
   "codemirror_mode": {
    "name": "ipython",
    "version": 3
   },
   "file_extension": ".py",
   "mimetype": "text/x-python",
   "name": "python",
   "nbconvert_exporter": "python",
   "pygments_lexer": "ipython3",
   "version": "3.11.10"
  }
 },
 "nbformat": 4,
 "nbformat_minor": 2
}
