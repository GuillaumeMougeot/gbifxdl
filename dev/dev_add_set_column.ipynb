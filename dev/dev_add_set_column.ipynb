{
 "cells": [
  {
   "cell_type": "code",
   "execution_count": null,
   "id": "a89b5c89",
   "metadata": {},
   "outputs": [],
   "source": [
    "import numpy as np\n",
    "from math import ceil\n",
    "import random\n",
    "import pandas as pd\n",
    "from collections import defaultdict"
   ]
  },
  {
   "cell_type": "code",
   "execution_count": null,
   "id": "ae9c1029",
   "metadata": {},
   "outputs": [],
   "source": [
    "def balanced_list(n: int, p: int, dtype: type = int, start: int = 0):\n",
    "    \"\"\"Returns a list of uniformely distributed integers of values ranging from\n",
    "    `start` to `p + start`.\n",
    "\n",
    "    `dtype` argument allows to change the output data type, which is `int` by \n",
    "    default.\n",
    "    \"\"\"\n",
    "    if p > n or p <= 0 or n <= 0:\n",
    "        raise ValueError(\"Ensure 1 <= p <= n and n > 0\")\n",
    "    if n <= 0:\n",
    "        raise ValueError(\"Ensure n > 0\")\n",
    "    \n",
    "    # Ensure 0 is in the list\n",
    "    \n",
    "    base_count = n // p  # Number of times each number should appear\n",
    "    remainder = n % p  # Extra numbers to distribute\n",
    "    \n",
    "    result = []\n",
    "    \n",
    "    # Distribute base counts equally\n",
    "    for i in range(start, p + start):\n",
    "        result.extend([dtype(i)] * base_count)\n",
    "    \n",
    "    # Distribute the remainder numbers as evenly as possible\n",
    "    for i in range(start, remainder + start):\n",
    "        result.append(dtype(i))\n",
    "\n",
    "    # Shuffle the list before returning it\n",
    "    np.random.shuffle(result)\n",
    "\n",
    "    return result"
   ]
  },
  {
   "cell_type": "code",
   "execution_count": null,
   "id": "ed19499e",
   "metadata": {},
   "outputs": [],
   "source": []
  },
  {
   "cell_type": "code",
   "execution_count": null,
   "id": "750daaf7",
   "metadata": {},
   "outputs": [],
   "source": [
    "balanced_list(11,5)"
   ]
  },
  {
   "cell_type": "code",
   "execution_count": null,
   "id": "ce5471f9",
   "metadata": {},
   "outputs": [],
   "source": [
    "np.arange(10).tolist()"
   ]
  },
  {
   "cell_type": "code",
   "execution_count": null,
   "id": "34095ae1",
   "metadata": {},
   "outputs": [],
   "source": [
    "p=5; n=2\n",
    "# random.seed(42)\n",
    "\n",
    "def balanced_list(n: int, p: int, dtype: type = int, start: int = 0):\n",
    "    \"\"\"Returns a list of `n` uniformely distributed integers of values ranging \n",
    "    from 0 to `p`. \n",
    "\n",
    "    `dtype` argument allows to change the output data type, which is `int` by \n",
    "    default.\n",
    "\n",
    "    If n > p, then the function garantees that 0 is part of the output list. \n",
    "    \"\"\"\n",
    "\n",
    "    assert p > 0 and n > 0, ValueError(\"Ensure p and n are positive.\")\n",
    "\n",
    "    q = n // p\n",
    "    r = n % p\n",
    "\n",
    "    # Make sure that zero is always part of the list.\n",
    "    if r and not q:\n",
    "        l1 = [0]\n",
    "        l2 = list(range(1,p))\n",
    "        random.shuffle(l2)\n",
    "        l=l1+l2[:(r-1)]\n",
    "    else:\n",
    "        l1 = list(range(p))*q\n",
    "        l2 = list(range(p))\n",
    "        random.shuffle(l2)\n",
    "        l=l1+l2[:r]\n",
    "\n",
    "    random.shuffle(l)\n",
    "\n",
    "    if dtype != int or start!=0:\n",
    "        l = [dtype(e+start) for e in l]\n",
    "\n",
    "    return l\n",
    "\n",
    "l=balanced_list(10, 5, str, 1)\n",
    "l, len(l)"
   ]
  },
  {
   "cell_type": "code",
   "execution_count": null,
   "id": "a668b3a8",
   "metadata": {},
   "outputs": [],
   "source": [
    "parquet_path=\"/home/george/codes/gbifxdl/data/classif/traits/0032836-250426092105405_processing_metadata_nofail_deduplicated_cleaned.parquet\"\n",
    "df=pd.read_parquet(parquet_path)"
   ]
  },
  {
   "cell_type": "code",
   "execution_count": null,
   "id": "1ae29159",
   "metadata": {},
   "outputs": [],
   "source": [
    "df.head()"
   ]
  },
  {
   "cell_type": "code",
   "execution_count": null,
   "id": "2241e255",
   "metadata": {},
   "outputs": [],
   "source": [
    "def add_set_column_df(\n",
    "    df,\n",
    "    n_split=5,\n",
    "    ood_th=5,\n",
    "    species_column=\"speciesKey\",\n",
    "    seed=42\n",
    "):\n",
    "    \"\"\"\n",
    "    Works with a Pandas DataFrame instead of streaming a Parquet file.\n",
    "    \n",
    "    Parameters:\n",
    "    - df: Input pandas DataFrame.\n",
    "    - n_split: Number of splits for in-distribution classes.\n",
    "    - ood_th: Threshold to determine out-of-distribution classes.\n",
    "    - species_column: Column name for species.\n",
    "    - seed: Random seed for reproducibility.\n",
    "    \n",
    "    Returns:\n",
    "    - df: DataFrame with an added \"set\" column.\n",
    "    \"\"\"\n",
    "    random.seed(seed)\n",
    "\n",
    "    # Count occurrences per species\n",
    "    species_counts = df[species_column].value_counts()\n",
    "\n",
    "    # Identify OOD and in-distribution species\n",
    "    id_species = species_counts[species_counts > ood_th].index\n",
    "\n",
    "    # Assign OOD label first\n",
    "    df[\"set\"] = \"test_ood\"\n",
    "    \n",
    "    # Filter in-distribution rows\n",
    "    id_mask = df[species_column].isin(id_species)\n",
    "    id_df = df[id_mask]\n",
    "\n",
    "    # Assign balanced splits to in-distribution species\n",
    "    for species, indices in id_df.groupby(species_column).groups.items():\n",
    "        indices = list(indices)\n",
    "        n = len(indices)\n",
    "        splits = balanced_list(n, n_split)\n",
    "        df.loc[indices, \"set\"] = [str(s) for s in splits]\n",
    "\n",
    "    return df"
   ]
  },
  {
   "cell_type": "code",
   "execution_count": null,
   "id": "d7e3b0a9",
   "metadata": {},
   "outputs": [],
   "source": [
    "df2=add_set_column_df(df, 10, 0)"
   ]
  },
  {
   "cell_type": "code",
   "execution_count": null,
   "id": "bc423a55",
   "metadata": {},
   "outputs": [],
   "source": [
    "df2[\"set\"]"
   ]
  },
  {
   "cell_type": "code",
   "execution_count": null,
   "id": "9c1efcbe",
   "metadata": {},
   "outputs": [],
   "source": [
    "df2.head()"
   ]
  },
  {
   "cell_type": "code",
   "execution_count": null,
   "id": "8c217362",
   "metadata": {},
   "outputs": [],
   "source": [
    "parquet_path=\"/home/george/codes/gbifxdl/data/classif/traits/0032836-250426092105405_processing_metadata_postprocessed.parquet\"\n",
    "df2.to_parquet(parquet_path, index=False)"
   ]
  },
  {
   "cell_type": "code",
   "execution_count": null,
   "id": "33e494bf",
   "metadata": {},
   "outputs": [],
   "source": [
    "!ls -alh \"/home/george/codes/gbifxdl/data/classif/traits\""
   ]
  },
  {
   "cell_type": "code",
   "execution_count": null,
   "id": "52e28806",
   "metadata": {},
   "outputs": [],
   "source": [
    "df2=pd.read_parquet(parquet_path)"
   ]
  },
  {
   "cell_type": "code",
   "execution_count": null,
   "id": "f9363086",
   "metadata": {},
   "outputs": [],
   "source": [
    "df2.drop('set', axis=1).equals(df.drop('set', axis=1))"
   ]
  },
  {
   "cell_type": "code",
   "execution_count": null,
   "id": "8f79a5f7",
   "metadata": {},
   "outputs": [],
   "source": [
    "!rm /home/george/codes/gbifxdl/data/classif/traits/0032836-250426092105405_processing_metadata_copy.parquet"
   ]
  },
  {
   "cell_type": "code",
   "execution_count": null,
   "id": "74f718e3",
   "metadata": {},
   "outputs": [],
   "source": []
  }
 ],
 "metadata": {
  "kernelspec": {
   "display_name": "Python 3",
   "language": "python",
   "name": "python3"
  },
  "language_info": {
   "codemirror_mode": {
    "name": "ipython",
    "version": 3
   },
   "file_extension": ".py",
   "mimetype": "text/x-python",
   "name": "python",
   "nbconvert_exporter": "python",
   "pygments_lexer": "ipython3",
   "version": "3.11.10"
  }
 },
 "nbformat": 4,
 "nbformat_minor": 5
}
