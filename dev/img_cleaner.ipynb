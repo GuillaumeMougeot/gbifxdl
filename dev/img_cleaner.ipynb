{
 "cells": [
  {
   "cell_type": "code",
   "execution_count": null,
   "metadata": {},
   "outputs": [],
   "source": [
    "import numpy as np\n",
    "import matplotlib.pyplot as plt\n",
    "import pandas as pd\n",
    "import os \n",
    "from os import listdir\n",
    "from os.path import join, isdir\n",
    "from pathlib import Path\n",
    "from pprint import pprint\n",
    "import random\n",
    "import csv\n",
    "from collections import defaultdict\n"
   ]
  },
  {
   "cell_type": "code",
   "execution_count": 31,
   "metadata": {},
   "outputs": [],
   "source": [
    "data_dir=\"/home/george/codes/gbifxdl/data/classif/20250221_cleaner_dataset\"\n",
    "csv_path=\"/home/george/codes/gbifxdl/data/classif/20250221_cleaner_dataset/fold.csv\""
   ]
  },
  {
   "cell_type": "code",
   "execution_count": 22,
   "metadata": {},
   "outputs": [
    {
     "name": "stdout",
     "output_type": "stream",
     "text": [
      "['2fd851a58db735a44438b176eeab8901487a419a.jpeg',\n",
      " '5a00c7e662526c6526747b0edb38a516e4b6bfbe.jpeg']\n"
     ]
    }
   ],
   "source": [
    "# List files\n",
    "filenames = {d:[] for d in sorted(listdir(data_dir))}\n",
    "for d in listdir(data_dir):\n",
    "    sub_dir = join(data_dir, d)\n",
    "    if isdir(sub_dir):\n",
    "        for f in listdir(sub_dir):\n",
    "            filenames[d] += [f]\n",
    "pprint(filenames[\"1\"][:2])"
   ]
  },
  {
   "cell_type": "markdown",
   "metadata": {},
   "source": [
    "Explore data."
   ]
  },
  {
   "cell_type": "code",
   "execution_count": 24,
   "metadata": {},
   "outputs": [
    {
     "name": "stdout",
     "output_type": "stream",
     "text": [
      "['1', '2', '3', '4', '5', '6', '7'] [11053, 446, 153, 55, 572, 430, 99]\n"
     ]
    },
    {
     "data": {
      "text/plain": [
       "<BarContainer object of 7 artists>"
      ]
     },
     "execution_count": 24,
     "metadata": {},
     "output_type": "execute_result"
    },
    {
     "data": {
      "image/png": "[encoded data removed]",
      "text/plain": [
       "<Figure size 640x480 with 1 Axes>"
      ]
     },
     "metadata": {},
     "output_type": "display_data"
    }
   ],
   "source": [
    "# Data distribution.\n",
    "\n",
    "x = list(filenames.keys())\n",
    "height = [len(v) for v in filenames.values()]\n",
    "\n",
    "print(x, height)\n",
    "\n",
    "plt.bar(x, height)"
   ]
  },
  {
   "cell_type": "code",
   "execution_count": 28,
   "metadata": {},
   "outputs": [
    {
     "name": "stdout",
     "output_type": "stream",
     "text": [
      "Imbalance degree: 100.0%\n",
      "Imbalance degree: 4.0351035917850355%\n",
      "Imbalance degree: 1.3842395729666155%\n",
      "Imbalance degree: 0.497602460870352%\n",
      "Imbalance degree: 5.17506559305166%\n",
      "Imbalance degree: 3.890346512259115%\n",
      "Imbalance degree: 0.8956844295666335%\n"
     ]
    }
   ],
   "source": [
    "# Imbalance degree.\n",
    "\n",
    "height = [len(v) for v in filenames.values()]\n",
    "for i in range(len(height)):\n",
    "    print(f\"Imbalance degree: {height[i]/max(height)*100}%\")"
   ]
  },
  {
   "cell_type": "markdown",
   "metadata": {},
   "source": [
    "Split the dataset into train/val/test"
   ]
  },
  {
   "cell_type": "code",
   "execution_count": 47,
   "metadata": {},
   "outputs": [],
   "source": [
    "def hold_out(X, y, split_rate, seed=42):\n",
    "    \"\"\"\n",
    "    Splits the dataset into training and test samples in a balanced fashion across classes.\n",
    "    \n",
    "    Args:\n",
    "        X (list): List of inputs (e.g., filenames).\n",
    "        y (list): List of labels corresponding to X.\n",
    "        split_rate (float): Fraction of samples to assign as test per class.\n",
    "        \n",
    "    Returns:\n",
    "        list: A binary list of length len(y), where 1 indicates a test (hold-out) sample.\n",
    "    \"\"\"\n",
    "    random.seed(seed)\n",
    "    n = len(y)\n",
    "    hold_out_mask = [0] * n\n",
    "    # Group indices by class label.\n",
    "    class_indices = defaultdict(list)\n",
    "    for i, label in enumerate(y):\n",
    "        class_indices[label].append(i)\n",
    "    \n",
    "    # For each class, randomly sample indices for the test set.\n",
    "    for label, indices in class_indices.items():\n",
    "        n_samples = len(indices)\n",
    "        n_test = int(round(n_samples * split_rate))\n",
    "        test_indices = random.sample(indices, n_test)\n",
    "        for idx in test_indices:\n",
    "            hold_out_mask[idx] = 1\n",
    "            \n",
    "    return hold_out_mask\n",
    "\n",
    "def stratified_kfold(X, y, n_splits, hold_out_mask=None, seed=42):\n",
    "    \"\"\"\n",
    "    Performs stratified k-fold assignment on the dataset.\n",
    "    \n",
    "    For each class, training samples (or all samples if hold_out_mask is None)\n",
    "    are randomly shuffled and assigned fold numbers (0 to n_splits-1) in a round-robin fashion.\n",
    "    If hold_out_mask is provided, samples with hold_out==1 are skipped (their fold is left as -1).\n",
    "    \n",
    "    Args:\n",
    "        X (list): List of inputs.\n",
    "        y (list): List of labels.\n",
    "        n_splits (int): Number of folds.\n",
    "        hold_out_mask (list, optional): List of 0s and 1s indicating training/test. Defaults to None.\n",
    "    \n",
    "    Returns:\n",
    "        list: A list of fold assignments (length equal to len(y)). For training samples, the fold is an integer\n",
    "              in the range [0, n_splits-1]. Test samples get a fold assignment of -1.\n",
    "    \"\"\"\n",
    "    random.seed(seed)\n",
    "    n = len(y)\n",
    "    folds = [-1] * n  # default: -1 for test samples\n",
    "    # Group training indices by class.\n",
    "    class_indices = defaultdict(list)\n",
    "    for i, label in enumerate(y):\n",
    "        if hold_out_mask is not None:\n",
    "            if hold_out_mask[i] == 0:\n",
    "                class_indices[label].append(i)\n",
    "        else:\n",
    "            class_indices[label].append(i)\n",
    "    \n",
    "    # Assign fold numbers in a round-robin fashion within each class.\n",
    "    for label, indices in class_indices.items():\n",
    "        random.shuffle(indices)\n",
    "        for j, idx in enumerate(indices):\n",
    "            folds[idx] = j % n_splits\n",
    "    return folds\n",
    "\n",
    "def save_stratified_kfold_csv(X, y, split_rate, n_splits, csv_filename):\n",
    "    \"\"\"\n",
    "    Combines hold-out splitting and stratified k-folding, then writes the results to a CSV file.\n",
    "    \n",
    "    The CSV will have three columns:\n",
    "      - filename (taken from X)\n",
    "      - hold_out (0 for training, 1 for test)\n",
    "      - fold (fold number for training samples; -1 for test samples)\n",
    "    \n",
    "    Args:\n",
    "        X (list): List of filenames (or input identifiers).\n",
    "        y (list): List of labels.\n",
    "        split_rate (float): Fraction of samples per class to mark as test.\n",
    "        n_splits (int): Number of folds for stratified k-folding.\n",
    "        csv_filename (str): Path to the CSV file to be saved.\n",
    "    \"\"\"\n",
    "    # First, compute the hold-out mask.\n",
    "    hold_out_mask = hold_out(X, y, split_rate)\n",
    "    # Next, compute stratified k-fold assignments (training samples get a fold number, test samples get -1).\n",
    "    folds = stratified_kfold(X, y, n_splits, hold_out_mask)\n",
    "    \n",
    "    # Write the results to a CSV file.\n",
    "    with open(csv_filename, mode='w', newline='') as f:\n",
    "        writer = csv.writer(f)\n",
    "        writer.writerow(['filename', 'fold'])\n",
    "        for filename, fold in zip(X, folds):\n",
    "            writer.writerow([filename, fold])\n",
    "\n",
    "def split_dataset(root_dir, split_rate, n_splits, csv_filename, abs_path=False):\n",
    "    \"\"\"\n",
    "    Processes the dataset stored in a folder structure where each subfolder represents a class.\n",
    "    \n",
    "    It collects image file paths and their corresponding class labels (the subfolder names), \n",
    "    performs a balanced hold-out split and stratified k-folding, and saves the splits into a CSV file.\n",
    "    \n",
    "    The resulting CSV contains:\n",
    "      - filename: full path to the image file\n",
    "      - hold_out: 1 if the image is assigned as a test sample, 0 otherwise\n",
    "      - fold: the fold number for training samples (0 to n_splits-1) or -1 for test samples.\n",
    "    \n",
    "    Args:\n",
    "        root_dir (str): Path to the root directory of the dataset.\n",
    "        split_rate (float): Fraction of images per class to mark as test.\n",
    "        n_splits (int): Number of folds for stratified k-folding.\n",
    "        csv_filename (str): Path to the CSV file to be saved.\n",
    "    \"\"\"\n",
    "    X = []\n",
    "    y = []\n",
    "    # Each subdirectory in root_dir is assumed to be a class.\n",
    "    for class_name in os.listdir(root_dir):\n",
    "        class_dir = os.path.join(root_dir, class_name)\n",
    "        if os.path.isdir(class_dir):\n",
    "            # List all files in the class directory.\n",
    "            for file in os.listdir(class_dir):\n",
    "                file_path = os.path.join(class_dir, file)\n",
    "                if os.path.isfile(file_path):\n",
    "                    if abs_path:\n",
    "                        X.append(file_path)\n",
    "                    else:\n",
    "                        X.append(file)\n",
    "                    y.append(class_name)\n",
    "                    \n",
    "    # Save the stratified k-fold and hold-out splits to CSV.\n",
    "    save_stratified_kfold_csv(X, y, split_rate, n_splits, csv_filename)\n",
    "    print(f\"CSV with stratified k-fold splits saved to {csv_filename}\")"
   ]
  },
  {
   "cell_type": "code",
   "execution_count": 48,
   "metadata": {},
   "outputs": [
    {
     "name": "stdout",
     "output_type": "stream",
     "text": [
      "CSV with stratified k-fold splits saved to /home/george/codes/gbifxdl/data/classif/20250221_cleaner_dataset/fold.csv\n"
     ]
    }
   ],
   "source": [
    "split_dataset(\n",
    "    root_dir=data_dir,\n",
    "    split_rate=0.2,\n",
    "    n_splits=5,\n",
    "    csv_filename=csv_path\n",
    ")"
   ]
  },
  {
   "cell_type": "markdown",
   "metadata": {},
   "source": [
    "First try. Training on the imbalance dataset."
   ]
  },
  {
   "cell_type": "code",
   "execution_count": 49,
   "metadata": {},
   "outputs": [],
   "source": [
    "df = pd.read_csv(csv_path)"
   ]
  },
  {
   "cell_type": "code",
   "execution_count": 50,
   "metadata": {},
   "outputs": [
    {
     "data": {
      "text/html": [
       "<div>\n",
       "<style scoped>\n",
       "    .dataframe tbody tr th:only-of-type {\n",
       "        vertical-align: middle;\n",
       "    }\n",
       "\n",
       "    .dataframe tbody tr th {\n",
       "        vertical-align: top;\n",
       "    }\n",
       "\n",
       "    .dataframe thead th {\n",
       "        text-align: right;\n",
       "    }\n",
       "</style>\n",
       "<table border=\"1\" class=\"dataframe\">\n",
       "  <thead>\n",
       "    <tr style=\"text-align: right;\">\n",
       "      <th></th>\n",
       "      <th>filename</th>\n",
       "      <th>fold</th>\n",
       "    </tr>\n",
       "  </thead>\n",
       "  <tbody>\n",
       "    <tr>\n",
       "      <th>0</th>\n",
       "      <td>4852cb5f2661d65f9b4e9612b1236bff03f466da.jpeg</td>\n",
       "      <td>4</td>\n",
       "    </tr>\n",
       "    <tr>\n",
       "      <th>1</th>\n",
       "      <td>3bc79f2739fb432f33e8b0ed5a83a0cd9740d21e.jpeg</td>\n",
       "      <td>3</td>\n",
       "    </tr>\n",
       "    <tr>\n",
       "      <th>2</th>\n",
       "      <td>499d2388b50c10a82a81f5c668bb2fbb71c60492.jpeg</td>\n",
       "      <td>0</td>\n",
       "    </tr>\n",
       "    <tr>\n",
       "      <th>3</th>\n",
       "      <td>3c471d003a5ce331a5f7d1cdc44412f051e17107.jpeg</td>\n",
       "      <td>-1</td>\n",
       "    </tr>\n",
       "    <tr>\n",
       "      <th>4</th>\n",
       "      <td>2c8d751da33caac1737bc1aed689d763169f42a4.jpeg</td>\n",
       "      <td>0</td>\n",
       "    </tr>\n",
       "  </tbody>\n",
       "</table>\n",
       "</div>"
      ],
      "text/plain": [
       "                                        filename  fold\n",
       "0  4852cb5f2661d65f9b4e9612b1236bff03f466da.jpeg     4\n",
       "1  3bc79f2739fb432f33e8b0ed5a83a0cd9740d21e.jpeg     3\n",
       "2  499d2388b50c10a82a81f5c668bb2fbb71c60492.jpeg     0\n",
       "3  3c471d003a5ce331a5f7d1cdc44412f051e17107.jpeg    -1\n",
       "4  2c8d751da33caac1737bc1aed689d763169f42a4.jpeg     0"
      ]
     },
     "execution_count": 50,
     "metadata": {},
     "output_type": "execute_result"
    }
   ],
   "source": [
    "df.head()"
   ]
  },
  {
   "cell_type": "code",
   "execution_count": null,
   "metadata": {},
   "outputs": [],
   "source": []
  }
 ],
 "metadata": {
  "kernelspec": {
   "display_name": "Python 3",
   "language": "python",
   "name": "python3"
  },
  "language_info": {
   "codemirror_mode": {
    "name": "ipython",
    "version": 3
   },
   "file_extension": ".py",
   "mimetype": "text/x-python",
   "name": "python",
   "nbconvert_exporter": "python",
   "pygments_lexer": "ipython3",
   "version": "3.11.10"
  }
 },
 "nbformat": 4,
 "nbformat_minor": 2
}
