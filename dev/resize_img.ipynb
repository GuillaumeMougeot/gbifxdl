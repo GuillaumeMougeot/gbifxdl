{
 "cells": [
  {
   "cell_type": "code",
   "execution_count": null,
   "id": "7044c982",
   "metadata": {},
   "outputs": [],
   "source": [
    "import matplotlib.pyplot as plt\n",
    "import numpy as np\n",
    "from PIL import Image"
   ]
  },
  {
   "cell_type": "code",
   "execution_count": null,
   "id": "3fb34fb1",
   "metadata": {},
   "outputs": [],
   "source": [
    "img_path = \"/home/george/codes/gbifxdl/data/lepi_small/images/1841616/aa9463dc9bff9be37a1fd34a5804f8fc9cd09828.jpg\""
   ]
  },
  {
   "cell_type": "code",
   "execution_count": null,
   "id": "b120cdc4",
   "metadata": {},
   "outputs": [],
   "source": [
    "img=Image.open(img_path)"
   ]
  },
  {
   "cell_type": "code",
   "execution_count": null,
   "id": "3329ea01",
   "metadata": {},
   "outputs": [],
   "source": [
    "size=img.size\n",
    "np.argmax(size)"
   ]
  },
  {
   "cell_type": "code",
   "execution_count": null,
   "id": "f0f7e9af",
   "metadata": {},
   "outputs": [],
   "source": [
    "size"
   ]
  },
  {
   "cell_type": "code",
   "execution_count": null,
   "id": "3b433b4a",
   "metadata": {},
   "outputs": [],
   "source": [
    "img.resize(size)"
   ]
  },
  {
   "cell_type": "code",
   "execution_count": null,
   "id": "a3a95935",
   "metadata": {},
   "outputs": [],
   "source": [
    "def resize_image(image_path, output_path=None, max_size=512):\n",
    "    \"\"\"\n",
    "    Resizes an image so that the largest dimension (width or height) is `max_size` pixels,\n",
    "    maintaining the aspect ratio.\n",
    "\n",
    "    Parameters:\n",
    "        image_path (str): Path to the input image.\n",
    "        output_path (str, optional): Path to save the resized image. If None, it overwrites the input image.\n",
    "        max_size (int, optional): In the image largest dimension is larger than that, the images is resized to it.\n",
    "\n",
    "    Returns:\n",
    "        Image: The resized PIL Image object.\n",
    "    \"\"\"\n",
    "    with Image.open(image_path) as img:\n",
    "        original_width, original_height = img.size\n",
    "\n",
    "        # Determine the scaling factor\n",
    "        max_dim = max(original_width, original_height)\n",
    "        if max_dim <= max_size:\n",
    "            resized_img = img.copy()  # No resizing needed\n",
    "        else:\n",
    "            scale = max_size / max_dim\n",
    "            new_width = int(original_width * scale)\n",
    "            new_height = int(original_height * scale)\n",
    "            resized_img = img.resize((new_width, new_height))\n",
    "\n",
    "        # Save or return\n",
    "        # if output_path:\n",
    "        #     resized_img.save(output_path)\n",
    "        # else:\n",
    "        #     resized_img.save(image_path)\n",
    "\n",
    "        return resized_img"
   ]
  },
  {
   "cell_type": "code",
   "execution_count": null,
   "id": "2f266369",
   "metadata": {},
   "outputs": [],
   "source": [
    "resize_image(img_path).size"
   ]
  },
  {
   "cell_type": "code",
   "execution_count": null,
   "id": "e76209a5",
   "metadata": {},
   "outputs": [],
   "source": [
    "img.sav"
   ]
  }
 ],
 "metadata": {
  "kernelspec": {
   "display_name": "Python 3",
   "language": "python",
   "name": "python3"
  },
  "language_info": {
   "codemirror_mode": {
    "name": "ipython",
    "version": 3
   },
   "file_extension": ".py",
   "mimetype": "text/x-python",
   "name": "python",
   "nbconvert_exporter": "python",
   "pygments_lexer": "ipython3",
   "version": "3.11.10"
  }
 },
 "nbformat": 4,
 "nbformat_minor": 5
}
